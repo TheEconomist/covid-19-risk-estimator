{
 "cells": [
  {
   "cell_type": "code",
   "execution_count": null,
   "metadata": {},
   "outputs": [],
   "source": [
    "### XGBOOST with non-parametric confidence intervals\n",
    "\n",
    "import pandas as pd\n",
    "import numpy as np\n",
    "import snowflake.connector\n",
    "import xgboost as xgb\n",
    "import pickle\n",
    "import matplotlib.pyplot as plt"
   ]
  },
  {
   "cell_type": "code",
   "execution_count": null,
   "metadata": {},
   "outputs": [],
   "source": [
    "#Connect to Snowflake\n",
    "ctx = snowflake.connector.connect(\"**REMOVED**\")"
   ]
  },
  {
   "cell_type": "code",
   "execution_count": null,
   "metadata": {},
   "outputs": [],
   "source": [
    "# Download data\n",
    "\n",
    "sql=\"\"\"SELECT DIED, GENDER, AGE, UMC_30, UMC_HEART, UMC_DEMENTIA, UMC_CKD, UMC_INHERITED_METABOLIC, UMC_HYP, UMC_DM2, UMC_OBESITY, UMC_CBD, \n",
    "UMC_COPD, UMC_HYL, UMC_ASTHMA, UMC_CANCER, UMC_DM1, UMC_LIVER, UMC_PREGNANCY, UMC_PULM_FIB, UMC_RHEUMATOID_ARTHRITIS, UMC_PARKINSONS, UMC_PANCREATITIS, UMC_DEV_BEH_DISORDER,\n",
    "UMC_PROSTATE_CANCER, UMC_LUNG_CANCER, UMC_COLORECTAL_CANCER, UMC_BREAST_CANCER, UMC_IMMUNE_DEF, UMC_LYMPHOMA_MYELOMA, UMC_LUPUS, UMC_MULTIPLE_SCLEROSIS,\n",
    "UMC_IMMUNE_SUPPRESSANTS, UMC_TRANS, NEWCASE_DATE, DAYS_HISTORY_BEFORE_COVID, DAYS_SINCE_2020, YOB, DIED_IN_2020\n",
    "FROM AIQ_MORTALITY_OFFICEALLY.AIQ_MORTALITY_OFFICEALLY_00051.Ji_patient_all WHERE \n",
    "COVID = 1 AND AGE IS NOT NULL\"\"\"\n",
    "\n",
    "df = pd.read_sql(sql,ctx)\n",
    "#Closes the Connection\n",
    "ctx.close()"
   ]
  },
  {
   "cell_type": "code",
   "execution_count": null,
   "metadata": {},
   "outputs": [],
   "source": []
  },
  {
   "cell_type": "code",
   "execution_count": null,
   "metadata": {},
   "outputs": [],
   "source": [
    "# Select by age and time horizon:\n",
    "mdf = df[:]\n",
    "\n",
    "# Remove censoring-point ages (some providers make everyone above this age exactly this age, also \n",
    "# removing (likely delivery-related) spike at 0 and 1 in this data)\n",
    "mdf = mdf[(mdf.AGE >= 0) & (mdf.AGE != 89) & (mdf.AGE != 80)]\n",
    "\n",
    "# Check that year of birth and age match roughly:\n",
    "mdf = mdf[abs((2020-mdf.YOB) - mdf.AGE) <= 1]\n",
    "\n",
    "# Make days since 2020 into weeks (to avoid weekly cycles)\n",
    "mdf['WEEKS_SINCE_2020'] = round(mdf['DAYS_SINCE_2020']/7)\n",
    "\n",
    "# Make sure we use died in 2020:\n",
    "mdf.describe()\n",
    "mdf['DIED_IN_2020_FIXED'] = mdf['DIED_IN_2020']\n",
    "\n",
    "# This fixes an error in which \"not died\" was coded as missing (see line below for comfirmation that this was happening)\n",
    "mdf['DIED_IN_2020_FIXED'] = mdf['DIED_IN_2020_FIXED'].fillna(0)\n",
    "#(mdf.DIED - mdf.DIED_IN_2020_FIXED).describe()\n",
    "\n",
    "# Save deaths in 2020 or 2021 column\n",
    "mdf['DIED_IN_2021_OR_2020'] = mdf['DIED']\n",
    "\n",
    "# Set died in 2020 as default\n",
    "mdf['DIED'] = mdf['DIED_IN_2020_FIXED']\n",
    "\n",
    "# Small fix: Drop men with pregnancy-related claims (just a bit over 100 total):\n",
    "mdf = mdf.drop(mdf[(mdf.GENDER == 2) & (mdf.UMC_PREGNANCY == 1)].index)\n",
    "\n",
    "# Drop obviously miscoded pregnancy-related claims (based on age):\n",
    "mdf = mdf.drop(mdf[(mdf.AGE < 10) & (mdf.UMC_PREGNANCY == 1)].index)\n",
    "\n",
    "# Cut the sample off in mid-December 2020 (doing this here matters for CFR calculations):\n",
    "mdf = mdf[(mdf.DAYS_SINCE_2020 <= 366-15)]\n",
    "\n",
    "mdf.describe()"
   ]
  },
  {
   "cell_type": "code",
   "execution_count": null,
   "metadata": {},
   "outputs": [],
   "source": []
  },
  {
   "cell_type": "code",
   "execution_count": null,
   "metadata": {},
   "outputs": [],
   "source": [
    "# Create augmented dataset (\"debiased\")\n",
    "mdx = mdf[:]\n",
    "mdx.describe()"
   ]
  },
  {
   "cell_type": "code",
   "execution_count": null,
   "metadata": {},
   "outputs": [],
   "source": []
  },
  {
   "cell_type": "code",
   "execution_count": null,
   "metadata": {},
   "outputs": [],
   "source": [
    "# Add age group column to mdx\n",
    "age_bucket_labels = ['0-4 Years', '5-14 Years', '15-24 Years', '25-34 Years', '35-44 Years',\n",
    "                     '45-54 Years', '55-64 Years', '65-74 Years', '75-84 Years',\n",
    "                     '85 Years and Over']\n",
    "age_bucket_bins = [-1, 5, 15, 25, 35, 45, 55, 65, 75, 85, 150]\n",
    "\n",
    "mdx['AGE_GROUP'] = pd.cut(mdx.loc[:,'AGE'], age_bucket_bins, labels=age_bucket_labels)\n",
    "mdx_neg_patients['AGE_GROUP'] = pd.cut(mdx_neg_patients.loc[:,'AGE'], age_bucket_bins, labels = age_bucket_labels)\n",
    "\n",
    "# To inspect;\n",
    "# mdx[['AGE_GROUP', 'AGE']].head(10)\n"
   ]
  },
  {
   "cell_type": "code",
   "execution_count": null,
   "metadata": {},
   "outputs": [],
   "source": [
    "# Group mdx df:\n",
    "cfr_mdx = mdx[['AGE_GROUP', 'DIED', 'GENDER', 'WEEKS_SINCE_2020']].groupby(by=['AGE_GROUP',\n",
    "                                                                              'GENDER',\n",
    "                                                                              'WEEKS_SINCE_2020'],\n",
    "                                                                          as_index=False).agg(['mean', 'count'])\n",
    "\n",
    "cfr_mdx = cfr_mdx.reset_index(drop=False)\n",
    "cfr_mdx.columns = [' '.join(col).strip() for col in cfr_mdx.columns.values]\n",
    "cfr_mdx.rename(columns={'DIED mean': 'CFR',\n",
    "                       'DIED count': 'CASES'},\n",
    "              inplace=True)"
   ]
  },
  {
   "cell_type": "code",
   "execution_count": null,
   "metadata": {},
   "outputs": [],
   "source": [
    "# Sort dataset by date within age and gender, and get 5-week average cfr for covid-positive patient data:\n",
    "\n",
    "# Sort data\n",
    "cfr_mdx = cfr_mdx.sort_values(by=['AGE_GROUP', 'GENDER', 'WEEKS_SINCE_2020'])\n",
    "\n",
    "# Break up the df by age group and gender, and get rolling centered average CFR over 5-week periods\n",
    "cfr_mdx_dfs = []\n",
    "for age_bucket in age_bucket_labels:\n",
    "    for gender in [1, 2]:\n",
    "        cfr_mdx_df = cfr_mdx[(cfr_mdx.AGE_GROUP == age_bucket) & \n",
    "                             (cfr_mdx.GENDER == gender)]\n",
    "        cfr_mdx_df.insert(5, 'CFR_ROLLING', cfr_mdx_df['CFR'].rolling(5, min_periods=1).mean())\n",
    "       # cfr_mdx_df['CFR_ROLLING'] = cfr_mdx_df['CFR'].rolling(5, min_periods=1).mean() # using above to avoid error\n",
    "        cfr_mdx_dfs.append(cfr_mdx_df)\n",
    "\n",
    "# Concatenate all dataframes created above:\n",
    "cfr_mdx_rolling = pd.concat(cfr_mdx_dfs).reset_index(drop=True)"
   ]
  },
  {
   "cell_type": "code",
   "execution_count": null,
   "metadata": {},
   "outputs": [],
   "source": [
    "# Optional chunk to inspect smoothing and underlying data:\n",
    "for age_group in age_bucket_labels:\n",
    "    temp_df = cfr_mdx_rolling[(cfr_mdx_rolling.WEEKS_SINCE_2020 >= 20) & \n",
    "                              (cfr_mdx_rolling.GENDER == 1) & \n",
    "                              (cfr_mdx_rolling.AGE_GROUP == age_group)]\n",
    "   \n",
    "    plt.plot(temp_df.WEEKS_SINCE_2020, temp_df.CFR, color = \"darkgray\")\n",
    "    plt.plot(temp_df.WEEKS_SINCE_2020, temp_df.CFR_ROLLING, \n",
    "             color = \"darkred\")\n",
    "    \n",
    "    temp_df = cfr_mdx_rolling[(cfr_mdx_rolling.WEEKS_SINCE_2020 >= 20) & \n",
    "                              (cfr_mdx_rolling.GENDER == 2) & \n",
    "                              (cfr_mdx_rolling.AGE_GROUP == age_group)]\n",
    "   \n",
    "    plt.plot(temp_df.WEEKS_SINCE_2020, temp_df.CFR, color = \"gray\")\n",
    "    plt.plot(temp_df.WEEKS_SINCE_2020, temp_df.CFR_ROLLING, \n",
    "             color = \"red\")\n",
    "\n",
    "    plt.title(age_group)\n",
    "    plt.show()"
   ]
  },
  {
   "cell_type": "code",
   "execution_count": null,
   "metadata": {},
   "outputs": [],
   "source": [
    "# Inspect this dataframe\n",
    "cfr_mdx.describe()"
   ]
  },
  {
   "cell_type": "code",
   "execution_count": null,
   "metadata": {},
   "outputs": [],
   "source": [
    "# We then read in the national CFR\n",
    "cfr_usa = pd.read_csv('case_fatality_rate_weekly.csv')\n",
    "\n",
    "# This was estimated by week, age group and gender based on the CDC patient-line data of diagnosed, scaled to \n",
    "# reflect total case counts by week (i.e. assuming the age distribution for the missing cases are similar to \n",
    "# those that are not missing) and CDC provisional death counts to covid-19 per week, assuming a 14 day median \n",
    "# delay between diagnosis and death. While the patient line data has some categorized as dead, it does not record\n",
    "# an outcome in most cases, and therefore could not be used directly.\n",
    "\n",
    "# Make naming consistent\n",
    "cfr_usa['WEEK'] = cfr_usa['DEATH_WEEK'] # (the week is the week of the recorded cases)\n",
    "cfr_usa['CFR'] = cfr_usa['DEATHS_TWO_WEEKS_LATER'] / cfr_usa['CASES'] # (we assume median 2 weeks between diagnosis and death)\n",
    "\n",
    "## Fix gender to conform to big dataset:\n",
    "cfr_usa['GENDER'] = [1.0 if sex == 'Female' else 2.0 for sex in cfr_usa.SEX]\n",
    "\n",
    "## Rename columns to conform\n",
    "cfr_usa.rename(columns={'WEEK': 'WEEKS_SINCE_2020'},\n",
    "              inplace=True)\n",
    "cfr_usa.drop(columns='SEX', inplace=True)"
   ]
  },
  {
   "cell_type": "code",
   "execution_count": null,
   "metadata": {},
   "outputs": [],
   "source": [
    "# Sort data\n",
    "cfr_usa = cfr_usa.sort_values(by=['AGE_GROUP', 'GENDER', 'WEEKS_SINCE_2020'])\n",
    "\n",
    "# Break up the df by age group and gender, and get rolling centered average CFR over 5-week periods\n",
    "cfr_usa_dfs = []\n",
    "for age_bucket in age_bucket_labels:\n",
    "    for gender in [1, 2]:\n",
    "        cfr_usa_df = cfr_usa[(cfr_usa.AGE_GROUP == age_bucket) & \n",
    "                             (cfr_usa.GENDER == gender)]\n",
    "        cfr_usa_df.insert(5, 'CFR_ROLLING', cfr_usa_df['CFR'].rolling(5, min_periods=1).mean())\n",
    "        cfr_usa_dfs.append(cfr_usa_df)\n",
    "\n",
    "# Concatenate all dataframes created above:\n",
    "cfr_usa_rolling = pd.concat(cfr_usa_dfs).reset_index(drop=True)\n",
    "cfr_usa_rolling.describe()"
   ]
  },
  {
   "cell_type": "code",
   "execution_count": null,
   "metadata": {},
   "outputs": [],
   "source": [
    "# We then merge the national CFR and patient-level CFR\n",
    "cfr_merged = cfr_mdx_rolling.merge(cfr_usa_rolling,\n",
    "                                  on=['AGE_GROUP',\n",
    "                                     'GENDER',\n",
    "                                     'WEEKS_SINCE_2020'],\n",
    "                                  how='left',\n",
    "                                  suffixes=['_mdx', '_usa'])\n",
    "#cfr_merged['N_SAMPLES_NEEDED']\n",
    "cfr_merged['APPROX_DEATHS'] = cfr_merged['CFR_ROLLING_mdx']*cfr_merged['CASES_mdx']\n",
    "cfr_merged['N_SAMPLES_NEEDED'] = (cfr_merged['CASES_mdx'] * \n",
    "                                  (cfr_merged['CFR_ROLLING_mdx']-cfr_merged['CFR_ROLLING_usa']))/cfr_merged['CFR_ROLLING_usa']\n",
    "\n",
    "# Check that this works:\n",
    "cfr_merged['FIXED_CFR'] = (cfr_merged['CASES_mdx'] * cfr_merged['CFR_ROLLING_mdx'])/ (cfr_merged['CASES_mdx'] + cfr_merged['N_SAMPLES_NEEDED'])\n",
    "\n",
    "print((cfr_merged.FIXED_CFR - cfr_merged.CFR_ROLLING_usa).max())\n",
    "# Yes!\n",
    "\n",
    "cfr_merged.describe()\n",
    "\n",
    "# Move negative N-samples needed to separate column\n",
    "cfr_merged['N_SAMPLES_EXTRA'] = - cfr_merged['N_SAMPLES_NEEDED']\n",
    "cfr_merged.loc[(cfr_merged['N_SAMPLES_NEEDED'] < 0), 'N_SAMPLES_NEEDED'] = 0\n",
    "cfr_merged.loc[(cfr_merged['N_SAMPLES_EXTRA'] < 0), 'N_SAMPLES_EXTRA'] = 0\n",
    "\n",
    "cfr_merged.describe()"
   ]
  },
  {
   "cell_type": "code",
   "execution_count": null,
   "metadata": {},
   "outputs": [],
   "source": [
    "#cfr_merged = pd.read_csv('DEBIASING_TARGETS.csv')"
   ]
  },
  {
   "cell_type": "code",
   "execution_count": null,
   "metadata": {},
   "outputs": [],
   "source": [
    "# Pretty much all of these are in the 85 years and older category.\n",
    "#cfr_merged.N_SAMPLES_EXTRA[(cfr_merged['AGE_GROUP'] == '85 Years and Over')].sum()/\n",
    "#cfr_merged[(cfr_merged.WEEKS_SINCE_2020 == 48)]\n",
    "#cfr_merged.N_SAMPLES_EXTRA.sum()"
   ]
  },
  {
   "cell_type": "code",
   "execution_count": null,
   "metadata": {},
   "outputs": [],
   "source": [
    "# Optional chunk to inspect additions by age group and gender):\n",
    "for age_group in age_bucket_labels:\n",
    "    temp_df = cfr_merged[(cfr_merged.WEEKS_SINCE_2020 >= 20) &\n",
    "                         (cfr_merged.GENDER == 1) & \n",
    "                         (cfr_merged.AGE_GROUP == age_group)]\n",
    "   \n",
    "    plt.plot(temp_df.WEEKS_SINCE_2020, temp_df.CASES_mdx, color = \"darkgray\")\n",
    "    plt.plot(temp_df.WEEKS_SINCE_2020, temp_df.CASES_mdx + temp_df.N_SAMPLES_NEEDED - temp_df.N_SAMPLES_EXTRA, \n",
    "             color = \"pink\")\n",
    "    \n",
    "    temp_df = cfr_merged[(cfr_merged.WEEKS_SINCE_2020 >= 20) &\n",
    "                         (cfr_merged.GENDER == 2) & \n",
    "                         (cfr_merged.AGE_GROUP == age_group)]\n",
    "   \n",
    "    plt.plot(temp_df.WEEKS_SINCE_2020, temp_df.CASES_mdx, color = \"darkblue\")\n",
    "    plt.plot(temp_df.WEEKS_SINCE_2020, temp_df.CASES_mdx + temp_df.N_SAMPLES_NEEDED - temp_df.N_SAMPLES_EXTRA, \n",
    "             color = \"blue\")\n",
    "\n",
    "    plt.title(age_group)\n",
    "    plt.show()"
   ]
  },
  {
   "cell_type": "code",
   "execution_count": null,
   "metadata": {},
   "outputs": [],
   "source": []
  },
  {
   "cell_type": "code",
   "execution_count": null,
   "metadata": {},
   "outputs": [],
   "source": [
    "# Design sampling procedure:\n",
    "# First: draw subsample from big data to use as base\n",
    "\n",
    "#Connect to Snowflake\n",
    "ctx = snowflake.connector.connect(**REMOVED**)\n",
    "\n",
    "# Download data (this draws a random sample of about 10m)\n",
    "sql=\"\"\"SELECT DIED, GENDER, AGE, UMC_30, UMC_HEART, UMC_DEMENTIA, UMC_CKD, UMC_INHERITED_METABOLIC, UMC_HYP, UMC_DM2, UMC_OBESITY, UMC_CBD, \n",
    "UMC_COPD, UMC_HYL, UMC_ASTHMA, UMC_CANCER, UMC_DM1, UMC_LIVER, UMC_PREGNANCY, UMC_PULM_FIB, UMC_RHEUMATOID_ARTHRITIS, UMC_PARKINSONS, UMC_PANCREATITIS, UMC_DEV_BEH_DISORDER,\n",
    "UMC_PROSTATE_CANCER, UMC_LUNG_CANCER, UMC_COLORECTAL_CANCER, UMC_BREAST_CANCER, UMC_IMMUNE_DEF, UMC_LYMPHOMA_MYELOMA, UMC_LUPUS, UMC_MULTIPLE_SCLEROSIS,\n",
    "UMC_IMMUNE_SUPPRESSANTS, UMC_TRANS, NEWCASE_DATE, DAYS_HISTORY_BEFORE_COVID, DAYS_SINCE_2020, YOB, DIED_IN_2020, COVID\n",
    "FROM AIQ_MORTALITY_OFFICEALLY.AIQ_MORTALITY_OFFICEALLY_00051.Ji_patient_all SAMPLE (10.0)\"\"\"\n",
    "\n",
    "big_data_df = pd.read_sql(sql,ctx)\n",
    "#Closes the Connection\n",
    "ctx.close()\n"
   ]
  },
  {
   "cell_type": "code",
   "execution_count": null,
   "metadata": {},
   "outputs": [],
   "source": [
    "# We then remove those who died or had covid:\n",
    "big_data = big_data_df[(big_data_df.DIED == 0) & (big_data_df.COVID == 0)]\n",
    "\n",
    "# Small fix: Drop men with pregnancy-related claims (side note: apparently women can get things called prostate cancer):\n",
    "big_data = big_data.drop(big_data[(big_data.GENDER == 2) & (big_data.UMC_PREGNANCY == 1)].index)\n",
    "\n",
    "# Remove censoring-point ages (some providers make everyone above this age exactly this age, also \n",
    "# removing (likely delivery-related) spike at 0 and 1 in this data)\n",
    "big_data = big_data[(big_data.AGE >= 0) & (big_data.AGE != 89) & (big_data.AGE != 80) & (big_data.AGE > 1)]\n",
    "\n",
    "# Check that year of birth and age match roughly:\n",
    "big_data = big_data[abs((2020-big_data.YOB) - big_data.AGE) <= 1]\n",
    "\n",
    "# We then have our big sample to draw from\n",
    "big_data.describe()"
   ]
  },
  {
   "cell_type": "code",
   "execution_count": null,
   "metadata": {},
   "outputs": [],
   "source": [
    "# Optional plot of density for the two \n",
    "print(big_data.AGE.plot.density(color='blue'))\n",
    "print(mdx.AGE.plot.density(color='red'))"
   ]
  },
  {
   "cell_type": "code",
   "execution_count": null,
   "metadata": {},
   "outputs": [],
   "source": [
    "# Set up sample to add to the existing set of covid-positive:\n",
    "# Generate age groups:\n",
    "age_bucket_labels = ['0-4 Years', '5-14 Years', '15-24 Years', '25-34 Years', '35-44 Years',\n",
    "                     '45-54 Years', '55-64 Years', '65-74 Years', '75-84 Years',\n",
    "                     '85 Years and Over']\n",
    "age_bucket_bins = [0, 5, 15, 25, 35, 45, 55, 65, 75, 85, 150]\n",
    "\n",
    "big_data['AGE_GROUP'] = pd.cut(big_data.loc[:,'AGE'], age_bucket_bins, labels=age_bucket_labels)\n",
    "\n",
    "big_data['WEEKS_SINCE_2020'] = 0\n",
    "\n",
    "big_data.describe()   "
   ]
  },
  {
   "cell_type": "code",
   "execution_count": null,
   "metadata": {},
   "outputs": [],
   "source": []
  },
  {
   "cell_type": "code",
   "execution_count": null,
   "metadata": {},
   "outputs": [],
   "source": []
  },
  {
   "cell_type": "code",
   "execution_count": null,
   "metadata": {},
   "outputs": [],
   "source": [
    "for age_group in age_bucket_labels:\n",
    "    print(age_group + \": \" + str(round(sum(cfr_merged.N_SAMPLES_NEEDED[(cfr_merged.N_SAMPLES_NEEDED > 0) \n",
    "                                                                 & (cfr_merged.AGE_GROUP == age_group)]))) + \n",
    "          \" samples needed -- as %: \" + \n",
    "          str(100*sum(cfr_merged.N_SAMPLES_NEEDED[(cfr_merged.N_SAMPLES_NEEDED > 0) \n",
    "                                              & (cfr_merged.AGE_GROUP == age_group)])/\n",
    "              sum(cfr_merged.CASES_mdx[(cfr_merged.AGE_GROUP == age_group)])) + \n",
    "          \" --- Obs in data: \" + str(sum(cfr_merged.CASES_mdx[(cfr_merged.AGE_GROUP == age_group)])))\n"
   ]
  },
  {
   "cell_type": "code",
   "execution_count": null,
   "metadata": {},
   "outputs": [],
   "source": []
  },
  {
   "cell_type": "code",
   "execution_count": null,
   "metadata": {},
   "outputs": [],
   "source": [
    "\n",
    "# Set baseline to not plausible covid\n",
    "big_data['PLAUSIBLE_COVID'] = 0\n",
    "big_data['WEEKS_SINCE_2020'] = 0\n",
    "\n",
    "# Make target df\n",
    "extra_obs = []\n",
    "\n",
    "# Randomly flip people into plausible covid:\n",
    "added_samples = 0\n",
    "ind = 0\n",
    "\n",
    "for week in cfr_merged.WEEKS_SINCE_2020.unique():\n",
    "    for age_group in age_bucket_labels:\n",
    "        for gender in [1,2]:\n",
    "            # Get number of plausible covid-19 patients in this intersection\n",
    "            ntarget = cfr_merged.loc[(cfr_merged.AGE_GROUP == age_group) &\n",
    "                                     (cfr_merged.GENDER == gender) &\n",
    "                                     (cfr_merged.WEEKS_SINCE_2020 == week),'N_SAMPLES_NEEDED']\n",
    "            \n",
    "                \n",
    "            # If ntarget is an integer, then proceed to add:\n",
    "            try:\n",
    "                ntarget = int(round(ntarget))\n",
    "                \n",
    "                print(\"Ntarget = \" + str(ntarget) + \" added samples total = \" + str(added_samples) + \n",
    "                      \" ***** progress =\" + str(round(ind/len(cfr_merged.index)*10000)/100) +\n",
    "                      \" ***** age group = \" + age_group + \" and week = \" + str(week))\n",
    "                \n",
    "                if ntarget > 0:\n",
    "\n",
    "                    added_samples = added_samples + ntarget\n",
    "                    \n",
    "                    temp = big_data[(big_data.PLAUSIBLE_COVID == 0) &\n",
    "                        (big_data.AGE_GROUP == age_group) & \n",
    "                        (big_data.GENDER == gender)].sample(ntarget, replace = True)\n",
    "                    temp['WEEKS_SINCE_2020'] = week\n",
    "                    temp['PLAUSIBLE_COVID'] = 1\n",
    "                    extra_obs.append(temp)\n",
    "            except:\n",
    "                \"\"\n",
    "\n",
    "            ind = ind + 1\n",
    "           \n",
    "# Concatenate all dataframes created above:\n",
    "extra_obs = pd.concat(extra_obs).reset_index(drop=True)\n",
    "extra_obs.describe()"
   ]
  },
  {
   "cell_type": "code",
   "execution_count": null,
   "metadata": {},
   "outputs": [],
   "source": []
  },
  {
   "cell_type": "code",
   "execution_count": null,
   "metadata": {},
   "outputs": [],
   "source": [
    "# Combine into the big dataset:\n",
    "extra_obs['DAYS_SINCE_2020'] = extra_obs['WEEKS_SINCE_2020']*7\n",
    "\n",
    "mdx_augmented = mdx.append(extra_obs)\n",
    "mdx_augmented.describe()  "
   ]
  },
  {
   "cell_type": "code",
   "execution_count": null,
   "metadata": {},
   "outputs": [],
   "source": [
    "# Check what age curve looks like for raw vs augmented:\n",
    "\n",
    "CFR_by_age_raw = []\n",
    "for i in range(0, 89):\n",
    "    #print(np.mean(mdx_augmented.DIED[(mdx_augmented.AGE == i)]))\n",
    "    CFR_by_age_raw.append(np.mean(mdx.DIED[(mdx.AGE == i)]))\n",
    "    \n",
    "\n",
    "CFR_by_age = []\n",
    "for i in range(0, 89):\n",
    "    #print(np.mean(mdx_augmented.DIED[(mdx_augmented.AGE == i)]))\n",
    "    CFR_by_age.append(np.mean(mdx_augmented.DIED[(mdx_augmented.AGE == i)]))\n",
    "    \n",
    "plt.plot(CFR_by_age_raw, color = 'gray')\n",
    "plt.plot(CFR_by_age, color = 'blue')\n",
    "plt.title(\"Debiased data (blue) vs raw data (gray)\")\n",
    "plt.show()\n",
    "\n",
    "\n",
    "plt.plot(CFR_by_age_raw, color = 'gray')\n",
    "plt.plot(CFR_by_age, color = 'blue')\n",
    "plt.title(\"Debiased data (blue) vs raw data (gray) - log scale\")\n",
    "plt.yscale('log')\n",
    "plt.show()\n",
    "# Looks reasonable."
   ]
  },
  {
   "cell_type": "code",
   "execution_count": null,
   "metadata": {},
   "outputs": [],
   "source": [
    "# Look at distribution of added obs:\n",
    "print(extra_obs.AGE.plot.density(color='blue'))"
   ]
  },
  {
   "cell_type": "code",
   "execution_count": null,
   "metadata": {},
   "outputs": [],
   "source": [
    "# Save data:\n",
    "mdf.to_csv('DEBIASED_DATA.csv')"
   ]
  },
  {
   "cell_type": "code",
   "execution_count": null,
   "metadata": {},
   "outputs": [],
   "source": [
    "cfr_merged['N_MISSING_DEATHS'] = (cfr_merged['CASES_mdx'] * \n",
    "                                  (cfr_merged['CFR_ROLLING_mdx']-cfr_merged['CFR_ROLLING_usa']))/cfr_merged['CFR_ROLLING_usa']\n",
    "\n",
    "# We save this, and used it to augment the hospitalizations data in a similar way.\n",
    "cfr_merged.to_csv(\"DEBIASING_TARGETS.csv\")\n",
    "cfr_merged.describe()"
   ]
  },
  {
   "cell_type": "code",
   "execution_count": null,
   "metadata": {},
   "outputs": [],
   "source": []
  },
  {
   "cell_type": "code",
   "execution_count": null,
   "metadata": {},
   "outputs": [],
   "source": []
  },
  {
   "cell_type": "code",
   "execution_count": null,
   "metadata": {},
   "outputs": [],
   "source": []
  },
  {
   "cell_type": "code",
   "execution_count": null,
   "metadata": {},
   "outputs": [],
   "source": []
  },
  {
   "cell_type": "code",
   "execution_count": null,
   "metadata": {},
   "outputs": [],
   "source": []
  }
 ],
 "metadata": {
  "kernelspec": {
   "display_name": "Python 3",
   "language": "python",
   "name": "python3"
  },
  "language_info": {
   "codemirror_mode": {
    "name": "ipython",
    "version": 3
   },
   "file_extension": ".py",
   "mimetype": "text/x-python",
   "name": "python",
   "nbconvert_exporter": "python",
   "pygments_lexer": "ipython3",
   "version": "3.7.4"
  }
 },
 "nbformat": 4,
 "nbformat_minor": 4
}
